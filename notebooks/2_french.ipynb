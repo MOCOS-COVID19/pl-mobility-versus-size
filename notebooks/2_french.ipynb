{
 "cells": [
  {
   "cell_type": "code",
   "execution_count": 13,
   "metadata": {},
   "outputs": [],
   "source": [
    "import pandas as pd\n",
    "import geopandas as gpd\n",
    "from unidecode import unidecode\n",
    "from geopy.distance import great_circle\n"
   ]
  },
  {
   "cell_type": "code",
   "execution_count": 3,
   "metadata": {},
   "outputs": [
    {
     "name": "stderr",
     "output_type": "stream",
     "text": [
      "<ipython-input-3-72af4f269941>:2: UserWarning: Geometry is in a geographic CRS. Results from 'centroid' are likely incorrect. Use 'GeoSeries.to_crs()' to re-project geometries to a projected CRS before this operation.\n",
      "\n",
      "  gdf['centroid']=gdf.geometry.centroid\n"
     ]
    }
   ],
   "source": [
    "gdf=gpd.read_file('../data/raw/fr/communes-20190101.json')\n",
    "gdf['centroid']=gdf.geometry.centroid\n",
    "centroid_map = gdf.set_index('nom')['centroid'].to_dict()"
   ]
  },
  {
   "cell_type": "code",
   "execution_count": 4,
   "metadata": {},
   "outputs": [
    {
     "name": "stderr",
     "output_type": "stream",
     "text": [
      "/home/niedakh/venvs/p3/lib/python3.8/site-packages/IPython/core/interactiveshell.py:3417: DtypeWarning: Columns (0) have mixed types.Specify dtype option on import or set low_memory=False.\n",
      "  exec(code_obj, self.user_global_ns, self.user_ns)\n"
     ]
    }
   ],
   "source": [
    "mobilite=pd.read_csv('../data/raw/fr/base-flux-mobilite-domicile-lieu-travail-2017.csv', sep=';').rename(columns={'NBFLUX_C17_ACTOCC15P': 'TravellerCount'})"
   ]
  },
  {
   "cell_type": "code",
   "execution_count": 5,
   "metadata": {},
   "outputs": [],
   "source": [
    "pop=pd.read_csv('../data/raw/fr/COMPOP.csv')\n",
    "pop['COM_name']=pop.COM.apply(lambda x: '-'.join(x.split('-')[:-1]))\n",
    "population_map = pop.set_index('COM_name')['PTOT'].to_dict()"
   ]
  },
  {
   "cell_type": "code",
   "execution_count": 8,
   "metadata": {},
   "outputs": [],
   "source": [
    "mob_df = mobilite.groupby(['LIBGEO', 'L_DCLT'])['TravellerCount'].sum().reset_index()\n",
    "mob_df['SourcePopulation']=mob_df.LIBGEO.apply(lambda x: population_map.get(unidecode(x)))\n",
    "mob_df['TargetPopulation']=mob_df.L_DCLT.apply(lambda x: population_map.get(unidecode(x)))"
   ]
  },
  {
   "cell_type": "code",
   "execution_count": 10,
   "metadata": {},
   "outputs": [
    {
     "data": {
      "text/plain": [
       "(34347, 32503)"
      ]
     },
     "execution_count": 10,
     "metadata": {},
     "output_type": "execute_result"
    }
   ],
   "source": [
    "location_names = set(mob_df.L_DCLT.tolist()+mob_df.LIBGEO.tolist())\n",
    "the_intersection = set(gdf.nom.tolist()).intersection(location_names)\n",
    "len(location_names), len(the_intersection)"
   ]
  },
  {
   "cell_type": "code",
   "execution_count": 14,
   "metadata": {},
   "outputs": [],
   "source": [
    "final_mob_df = mob_df.query('LIBGEO in @the_intersection').query('L_DCLT in @the_intersection')\n",
    "final_mob_df['SourceCentroid']=final_mob_df.LIBGEO.apply(lambda x: centroid_map[x])\n",
    "final_mob_df['TargetCentroid']=final_mob_df.L_DCLT.apply(lambda x: centroid_map[x])\n",
    "final_mob_df['Distance']=final_mob_df.apply(lambda row: great_circle(tuple(row['SourceCentroid'].coords)[0], tuple(row['TargetCentroid'].coords)[0]).km, axis=1)"
   ]
  },
  {
   "cell_type": "code",
   "execution_count": null,
   "metadata": {},
   "outputs": [],
   "source": [
    "final_mob_df.columns"
   ]
  },
  {
   "cell_type": "code",
   "execution_count": 17,
   "metadata": {},
   "outputs": [],
   "source": [
    "final_mob_df.to_pickle('../data/processed/fr_matrix.p')"
   ]
  },
  {
   "cell_type": "code",
   "execution_count": null,
   "metadata": {},
   "outputs": [],
   "source": []
  }
 ],
 "metadata": {
  "interpreter": {
   "hash": "0507b23520820170bd1fee1c7151baa0cc281cf1f926b757e8969ec4efd0bb4b"
  },
  "kernelspec": {
   "display_name": "Python 3.8.10 64-bit ('p3': virtualenv)",
   "language": "python",
   "name": "python3"
  },
  "language_info": {
   "codemirror_mode": {
    "name": "ipython",
    "version": 3
   },
   "file_extension": ".py",
   "mimetype": "text/x-python",
   "name": "python",
   "nbconvert_exporter": "python",
   "pygments_lexer": "ipython3",
   "version": "3.8.10"
  },
  "orig_nbformat": 4
 },
 "nbformat": 4,
 "nbformat_minor": 2
}
