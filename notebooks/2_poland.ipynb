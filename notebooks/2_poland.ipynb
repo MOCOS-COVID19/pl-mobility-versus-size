{
 "cells": [
  {
   "cell_type": "code",
   "execution_count": 2,
   "metadata": {},
   "outputs": [],
   "source": [
    "import pandas as pd"
   ]
  },
  {
   "cell_type": "code",
   "execution_count": 114,
   "metadata": {},
   "outputs": [],
   "source": [
    "ludnosc = []\n",
    "for i in range(1, 17):\n",
    "    ludnosc.append(pd.read_excel('../data/raw/gus/LUD_bilans_ludnosci_31-12-2011_fixed.xls', sheet_name=i))\n",
    "ludnosc=pd.concat(ludnosc).dropna(axis=0)\n",
    "powiaty = ludnosc[ludnosc[ludnosc.columns[0]].str.startswith('pow.')]\n",
    "powiaty = powiaty[powiaty.columns[[0,2]]].copy()\n",
    "powiaty.columns = ['Nazwa', 'Ludnosc']\n",
    "powiaty['Nazwa']=powiaty['Nazwa'].str.replace('pow\\.','').str.replace('m\\.','').str.replace('st\\. ','').str.replace('Wałbrzych','wałbrzyski').str.strip()\n",
    "powiaty['Ludnosc']=powiaty['Ludnosc'].apply(int)\n",
    "del ludnosc\n",
    "ludnosc=powiaty.groupby('Nazwa')['Ludnosc'].sum()"
   ]
  },
  {
   "cell_type": "code",
   "execution_count": 86,
   "metadata": {},
   "outputs": [],
   "source": [
    "mobility = pd.read_excel(\"../data/raw/gus/l_macierz_2014_03_18-1.xls\", dtype=str)\n",
    "mobility['SourcePowiat']=mobility['Powiat zamieszkania'].str.replace('Powiat','').str.replace('m\\.','').str.replace('st\\. ','').str.strip().replace('Wałbrzych', 'wałbrzyski')\n",
    "mobility['TargetPowiat']=mobility['Poawiat pracy'].str.replace('Powiat','').str.replace('m\\.','').str.replace('st\\. ','').str.strip().replace('Wałbrzych', 'wałbrzyski')\n",
    "mobility['Liczba osób']=mobility['Liczba osób'].astype(int)\n",
    "od_matrix = mobility.groupby(['SourcePowiat', 'TargetPowiat'])['Liczba osób'].sum()"
   ]
  },
  {
   "cell_type": "code",
   "execution_count": 42,
   "metadata": {},
   "outputs": [],
   "source": [
    "#wget https://www.gis-support.pl/downloads/Powiaty.zip -O ../data/raw/powiaty.zip"
   ]
  },
  {
   "cell_type": "code",
   "execution_count": 45,
   "metadata": {},
   "outputs": [],
   "source": [
    "import geopandas as gpd"
   ]
  },
  {
   "cell_type": "code",
   "execution_count": 117,
   "metadata": {},
   "outputs": [],
   "source": [
    "powiat_shape = gpd.read_file('../data/raw/powiaty.zip')\n",
    "powiat_shape['Nazwa']=powiat_shape['JPT_NAZWA_'].str.replace('powiat','').str.replace('Wałbrzych','wałbrzyski').str.strip()\n",
    "powiat_shape = powiat_shape.dissolve(by='Nazwa')"
   ]
  },
  {
   "cell_type": "code",
   "execution_count": 124,
   "metadata": {},
   "outputs": [],
   "source": [
    "od_powiat_names = set(mobility['TargetPowiat'].values).union(mobility['SourcePowiat'].values)\n",
    "shape_names = set(powiat_shape.index.values)\n",
    "ludnosc_names = set(ludnosc.index.values)"
   ]
  },
  {
   "cell_type": "code",
   "execution_count": 133,
   "metadata": {},
   "outputs": [],
   "source": [
    "# Make indices agree"
   ]
  },
  {
   "cell_type": "code",
   "execution_count": 134,
   "metadata": {},
   "outputs": [
    {
     "data": {
      "text/plain": [
       "(369, 369, 369)"
      ]
     },
     "execution_count": 134,
     "metadata": {},
     "output_type": "execute_result"
    }
   ],
   "source": [
    "len(od_powiat_names), len(shape_names), len(ludnosc_names)"
   ]
  },
  {
   "cell_type": "code",
   "execution_count": 135,
   "metadata": {},
   "outputs": [
    {
     "data": {
      "text/plain": [
       "(369, 369, 369)"
      ]
     },
     "execution_count": 135,
     "metadata": {},
     "output_type": "execute_result"
    }
   ],
   "source": [
    "len(shape_names.intersection(od_powiat_names)), len(shape_names.intersection(ludnosc_names)), len(od_powiat_names.intersection(ludnosc_names))"
   ]
  },
  {
   "cell_type": "code",
   "execution_count": 140,
   "metadata": {},
   "outputs": [],
   "source": [
    "import numpy as np\n",
    "def get_distance(centroid1, centroid2):\n",
    "    c1=tuple(centroid1.coords)[0]\n",
    "    c2=tuple(centroid2.coords)[0]\n",
    "    return np.sqrt((c1[0] - c2[0])**2 + (c1[1] - c2[1])**2)"
   ]
  },
  {
   "cell_type": "code",
   "execution_count": 166,
   "metadata": {},
   "outputs": [],
   "source": [
    "dists = pd.Series({k: get_distance(powiat_shape.loc[k[0]].geometry.representative_point(), powiat_shape.loc[k[1]].geometry.representative_point()) for k in od_matrix.index.values}, name='r')/1000"
   ]
  },
  {
   "cell_type": "code",
   "execution_count": 170,
   "metadata": {},
   "outputs": [],
   "source": [
    "city_pair_matrix = pd.DataFrame([od_matrix, dists]).T.round(0)+1"
   ]
  },
  {
   "cell_type": "code",
   "execution_count": 151,
   "metadata": {},
   "outputs": [],
   "source": []
  },
  {
   "cell_type": "code",
   "execution_count": 154,
   "metadata": {},
   "outputs": [
    {
     "data": {
      "text/plain": [
       "307941.12682343205"
      ]
     },
     "execution_count": 154,
     "metadata": {},
     "output_type": "execute_result"
    }
   ],
   "source": [
    "get_distance(powiat_shape.loc['Warszawa'].geometry.representative_point(), powiat_shape.loc['Wrocław'].geometry.representative_point())"
   ]
  },
  {
   "cell_type": "code",
   "execution_count": null,
   "metadata": {},
   "outputs": [],
   "source": []
  }
 ],
 "metadata": {
  "interpreter": {
   "hash": "ce49ba18eacf06b1ec4d401b19bc4b535e5896a71b4c05fc5a429c468a43a841"
  },
  "kernelspec": {
   "display_name": "Python 3.8.10 64-bit ('p38': virtualenv)",
   "language": "python",
   "name": "python3"
  },
  "language_info": {
   "codemirror_mode": {
    "name": "ipython",
    "version": 3
   },
   "file_extension": ".py",
   "mimetype": "text/x-python",
   "name": "python",
   "nbconvert_exporter": "python",
   "pygments_lexer": "ipython3",
   "version": "3.8.10"
  },
  "orig_nbformat": 4
 },
 "nbformat": 4,
 "nbformat_minor": 2
}
