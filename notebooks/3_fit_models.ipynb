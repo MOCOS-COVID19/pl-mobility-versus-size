{
 "cells": [
  {
   "cell_type": "code",
   "execution_count": 32,
   "metadata": {},
   "outputs": [],
   "source": [
    "import pandas as pd\n",
    "from scipy.optimize import curve_fit"
   ]
  },
  {
   "cell_type": "code",
   "execution_count": 62,
   "metadata": {},
   "outputs": [],
   "source": [
    "poland = pd.read_pickle('../data/processed/pl_matrix.p').query('Distance>0')\n",
    "france = pd.read_pickle('../data/processed/fr_matrix.p').query('Distance.between(1,962)').dropna(axis=0)"
   ]
  },
  {
   "cell_type": "code",
   "execution_count": 47,
   "metadata": {},
   "outputs": [
    {
     "data": {
      "text/plain": [
       "(Index(['TravellerCount', 'Distance', 'SourcePopulation', 'TargetPopulation'], dtype='object'),\n",
       " Index(['LIBGEO', 'L_DCLT', 'TravellerCount', 'SourcePopulation',\n",
       "        'TargetPopulation', 'SourceCentroid', 'TargetCentroid', 'Distance'],\n",
       "       dtype='object'))"
      ]
     },
     "execution_count": 47,
     "metadata": {},
     "output_type": "execute_result"
    }
   ],
   "source": [
    "poland.columns, france.columns"
   ]
  },
  {
   "cell_type": "code",
   "execution_count": 27,
   "metadata": {},
   "outputs": [],
   "source": [
    "%matplotlib inline"
   ]
  },
  {
   "cell_type": "code",
   "execution_count": 51,
   "metadata": {},
   "outputs": [
    {
     "data": {
      "text/plain": [
       "Text(0, 0.5, '# of city pairs')"
      ]
     },
     "execution_count": 51,
     "metadata": {},
     "output_type": "execute_result"
    },
    {
     "data": {
      "image/png": "[encoded data removed]",
      "text/plain": [
       "<Figure size 432x288 with 1 Axes>"
      ]
     },
     "metadata": {
      "needs_background": "light"
     },
     "output_type": "display_data"
    }
   ],
   "source": [
    "ax=poland['Distance'].round().value_counts().sort_index().plot()\n",
    "ax.set_ylabel('# of city pairs')"
   ]
  },
  {
   "cell_type": "code",
   "execution_count": 63,
   "metadata": {},
   "outputs": [
    {
     "data": {
      "text/plain": [
       "Text(0, 0.5, '# of city pairs')"
      ]
     },
     "execution_count": 63,
     "metadata": {},
     "output_type": "execute_result"
    },
    {
     "data": {
      "image/png": "[encoded data removed]",
      "text/plain": [
       "<Figure size 432x288 with 1 Axes>"
      ]
     },
     "metadata": {
      "needs_background": "light"
     },
     "output_type": "display_data"
    }
   ],
   "source": [
    "ax=france['Distance'].round().value_counts().sort_index().plot()\n",
    "ax.set_ylabel('# of city pairs')"
   ]
  },
  {
   "cell_type": "code",
   "execution_count": 65,
   "metadata": {},
   "outputs": [],
   "source": [
    "def gravity_model(x, a, b, d):\n",
    "    return (x[0]**a + x[1]**b)/(x[2]**d)\n",
    "\n",
    "def kernel(x, a, b, k):\n",
    "    x1, x2 = x\n",
    "    return k*((x1**(b))*(x2**a) + (x1**a)*(x2**(b)))"
   ]
  },
  {
   "cell_type": "code",
   "execution_count": 66,
   "metadata": {},
   "outputs": [
    {
     "data": {
      "text/html": [
       "<div>\n",
       "<style scoped>\n",
       "    .dataframe tbody tr th:only-of-type {\n",
       "        vertical-align: middle;\n",
       "    }\n",
       "\n",
       "    .dataframe tbody tr th {\n",
       "        vertical-align: top;\n",
       "    }\n",
       "\n",
       "    .dataframe thead th {\n",
       "        text-align: right;\n",
       "    }\n",
       "</style>\n",
       "<table border=\"1\" class=\"dataframe\">\n",
       "  <thead>\n",
       "    <tr style=\"text-align: right;\">\n",
       "      <th></th>\n",
       "      <th>a</th>\n",
       "      <th>b</th>\n",
       "      <th>d or r0</th>\n",
       "    </tr>\n",
       "  </thead>\n",
       "  <tbody>\n",
       "    <tr>\n",
       "      <th>Kernel</th>\n",
       "      <td>0.42</td>\n",
       "      <td>0.15</td>\n",
       "      <td>0.06</td>\n",
       "    </tr>\n",
       "    <tr>\n",
       "      <th>GravityModel</th>\n",
       "      <td>0.54</td>\n",
       "      <td>0.70</td>\n",
       "      <td>1.14</td>\n",
       "    </tr>\n",
       "  </tbody>\n",
       "</table>\n",
       "</div>"
      ],
      "text/plain": [
       "                 a     b  d or r0\n",
       "Kernel        0.42  0.15     0.06\n",
       "GravityModel  0.54  0.70     1.14"
      ]
     },
     "execution_count": 66,
     "metadata": {},
     "output_type": "execute_result"
    }
   ],
   "source": [
    "xdata = [france['SourcePopulation'].values, france['TargetPopulation'].values]\n",
    "ydata = france['TravellerCount'].values\n",
    "kernel_opt, kernel_cov = curve_fit(kernel, xdata, ydata)\n",
    "\n",
    "xdata = [france['SourcePopulation'].values, france['TargetPopulation'].values, france['Distance'].values]\n",
    "ydata = france['TravellerCount'].values\n",
    "gravity_opt, gravity_cov = curve_fit(gravity_model, xdata, ydata)\n",
    "pd.DataFrame([kernel_opt, gravity_opt], index=['Kernel', 'GravityModel'], columns=['a','b','d or r0']).round(2)"
   ]
  },
  {
   "cell_type": "code",
   "execution_count": 70,
   "metadata": {},
   "outputs": [
    {
     "data": {
      "text/html": [
       "<div>\n",
       "<style scoped>\n",
       "    .dataframe tbody tr th:only-of-type {\n",
       "        vertical-align: middle;\n",
       "    }\n",
       "\n",
       "    .dataframe tbody tr th {\n",
       "        vertical-align: top;\n",
       "    }\n",
       "\n",
       "    .dataframe thead th {\n",
       "        text-align: right;\n",
       "    }\n",
       "</style>\n",
       "<table border=\"1\" class=\"dataframe\">\n",
       "  <thead>\n",
       "    <tr style=\"text-align: right;\">\n",
       "      <th></th>\n",
       "      <th>a</th>\n",
       "      <th>b</th>\n",
       "      <th>d or r0</th>\n",
       "    </tr>\n",
       "  </thead>\n",
       "  <tbody>\n",
       "    <tr>\n",
       "      <th>Kernel</th>\n",
       "      <td>0.91</td>\n",
       "      <td>0.93</td>\n",
       "      <td>0.00</td>\n",
       "    </tr>\n",
       "    <tr>\n",
       "      <th>GravityModel</th>\n",
       "      <td>-0.91</td>\n",
       "      <td>0.89</td>\n",
       "      <td>1.22</td>\n",
       "    </tr>\n",
       "  </tbody>\n",
       "</table>\n",
       "</div>"
      ],
      "text/plain": [
       "                 a     b  d or r0\n",
       "Kernel        0.91  0.93     0.00\n",
       "GravityModel -0.91  0.89     1.22"
      ]
     },
     "execution_count": 70,
     "metadata": {},
     "output_type": "execute_result"
    }
   ],
   "source": [
    "xdata = [poland['SourcePopulation'].values, poland['TargetPopulation'].values]\n",
    "ydata = poland['TravellerCount'].values\n",
    "kernel_opt, kernel_cov = curve_fit(kernel, xdata, ydata,maxfev =10000)\n",
    "\n",
    "xdata = [poland['SourcePopulation'].values, poland['TargetPopulation'].values, poland['Distance'].values]\n",
    "ydata = poland['TravellerCount'].values\n",
    "gravity_opt, gravity_cov = curve_fit(gravity_model, xdata, ydata, maxfev =10000)\n",
    "pd.DataFrame([kernel_opt, gravity_opt], index=['Kernel', 'GravityModel'], columns=['a','b','d or r0']).round(2)"
   ]
  },
  {
   "cell_type": "code",
   "execution_count": null,
   "metadata": {},
   "outputs": [],
   "source": []
  }
 ],
 "metadata": {
  "interpreter": {
   "hash": "ce49ba18eacf06b1ec4d401b19bc4b535e5896a71b4c05fc5a429c468a43a841"
  },
  "kernelspec": {
   "display_name": "Python 3.8.10 64-bit ('p38': virtualenv)",
   "language": "python",
   "name": "python3"
  },
  "language_info": {
   "codemirror_mode": {
    "name": "ipython",
    "version": 3
   },
   "file_extension": ".py",
   "mimetype": "text/x-python",
   "name": "python",
   "nbconvert_exporter": "python",
   "pygments_lexer": "ipython3",
   "version": "3.8.10"
  },
  "orig_nbformat": 4
 },
 "nbformat": 4,
 "nbformat_minor": 2
}
